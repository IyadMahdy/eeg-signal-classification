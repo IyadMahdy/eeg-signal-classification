{
 "cells": [
  {
   "cell_type": "code",
   "execution_count": 59,
   "id": "96069bf8",
   "metadata": {},
   "outputs": [],
   "source": [
    "import pandas as pd\n",
    "import numpy as np\n",
    "import os\n",
    "import matplotlib.pyplot as plt\n",
    "import seaborn as sns\n",
    "from sklearn.preprocessing import LabelEncoder\n",
    "from sklearn.svm import SVC\n",
    "from sklearn.metrics import accuracy_score, classification_report, confusion_matrix\n",
    "import sys\n",
    "from sklearn.decomposition import PCA\n",
    "from imblearn.over_sampling import SMOTE\n",
    "sys.path.append('../src')\n",
    "from utils.load_data import load_metadata, load_trial\n",
    "from preprocessing.preprocessing import preprocess_deep_learning,preprocess_time_domain,preprocess_frequency_domain,preprocess_and_epoch_trial\n",
    "import tensorflow as tf\n",
    "from tensorflow.keras.models import Model\n",
    "from tensorflow.keras.models import Sequential\n",
    "from tensorflow.keras.layers import Conv2D, BatchNormalization, Activation, MaxPooling2D, Dropout, Flatten, Dense\n",
    "from tensorflow.keras.layers import BatchNormalization, Activation, AveragePooling2D, Dropout, Flatten, Dense\n",
    "from tensorflow.keras.utils import to_categorical\n",
    "from sklearn.neighbors import KNeighborsClassifier\n",
    "from sklearn.metrics import classification_report, accuracy_score, confusion_matrix\n",
    "from sklearn.ensemble import RandomForestClassifier\n",
    "from sklearn.preprocessing import StandardScaler\n",
    "import xgboost as xgb"
   ]
  },
  {
   "cell_type": "code",
   "execution_count": 2,
   "id": "874f1631",
   "metadata": {},
   "outputs": [
    {
     "data": {
      "text/html": [
       "<div>\n",
       "<style scoped>\n",
       "    .dataframe tbody tr th:only-of-type {\n",
       "        vertical-align: middle;\n",
       "    }\n",
       "\n",
       "    .dataframe tbody tr th {\n",
       "        vertical-align: top;\n",
       "    }\n",
       "\n",
       "    .dataframe thead th {\n",
       "        text-align: right;\n",
       "    }\n",
       "</style>\n",
       "<table border=\"1\" class=\"dataframe\">\n",
       "  <thead>\n",
       "    <tr style=\"text-align: right;\">\n",
       "      <th></th>\n",
       "      <th>id</th>\n",
       "      <th>subject_id</th>\n",
       "      <th>task</th>\n",
       "      <th>trial_session</th>\n",
       "      <th>trial</th>\n",
       "      <th>label</th>\n",
       "    </tr>\n",
       "  </thead>\n",
       "  <tbody>\n",
       "    <tr>\n",
       "      <th>0</th>\n",
       "      <td>1</td>\n",
       "      <td>S1</td>\n",
       "      <td>MI</td>\n",
       "      <td>1</td>\n",
       "      <td>1</td>\n",
       "      <td>Left</td>\n",
       "    </tr>\n",
       "    <tr>\n",
       "      <th>1</th>\n",
       "      <td>2</td>\n",
       "      <td>S1</td>\n",
       "      <td>MI</td>\n",
       "      <td>1</td>\n",
       "      <td>2</td>\n",
       "      <td>Right</td>\n",
       "    </tr>\n",
       "    <tr>\n",
       "      <th>2</th>\n",
       "      <td>3</td>\n",
       "      <td>S1</td>\n",
       "      <td>MI</td>\n",
       "      <td>1</td>\n",
       "      <td>3</td>\n",
       "      <td>Left</td>\n",
       "    </tr>\n",
       "    <tr>\n",
       "      <th>3</th>\n",
       "      <td>4</td>\n",
       "      <td>S1</td>\n",
       "      <td>MI</td>\n",
       "      <td>1</td>\n",
       "      <td>4</td>\n",
       "      <td>Left</td>\n",
       "    </tr>\n",
       "    <tr>\n",
       "      <th>4</th>\n",
       "      <td>5</td>\n",
       "      <td>S1</td>\n",
       "      <td>MI</td>\n",
       "      <td>1</td>\n",
       "      <td>5</td>\n",
       "      <td>Left</td>\n",
       "    </tr>\n",
       "  </tbody>\n",
       "</table>\n",
       "</div>"
      ],
      "text/plain": [
       "   id subject_id task  trial_session  trial  label\n",
       "0   1         S1   MI              1      1   Left\n",
       "1   2         S1   MI              1      2  Right\n",
       "2   3         S1   MI              1      3   Left\n",
       "3   4         S1   MI              1      4   Left\n",
       "4   5         S1   MI              1      5   Left"
      ]
     },
     "execution_count": 2,
     "metadata": {},
     "output_type": "execute_result"
    }
   ],
   "source": [
    "base_path = '../data'\n",
    "metadata = load_metadata(base_path)\n",
    "train_df = metadata['train']\n",
    "validation_df = metadata['validation']\n",
    "test_df = metadata['test']\n",
    "train_df.head()"
   ]
  },
  {
   "cell_type": "code",
   "execution_count": 28,
   "id": "5944f61d",
   "metadata": {},
   "outputs": [
    {
     "data": {
      "text/plain": [
       "((80, 16000), array([0, 1], dtype=int64))"
      ]
     },
     "execution_count": 28,
     "metadata": {},
     "output_type": "execute_result"
    }
   ],
   "source": [
    "target_len = 1000\n",
    "\n",
    "# Filter for subject S1\n",
    "train_s1_df = train_df[train_df['subject_id'] == 'S1']\n",
    "train_s1_df = train_s1_df[train_s1_df['task'] == 'MI']\n",
    "\n",
    "train_trials = []\n",
    "train_labels = []\n",
    "\n",
    "# Loop over all trials for S1\n",
    "for idx, row in train_s1_df.iterrows():\n",
    "    try:\n",
    "        trial_df = load_trial(row, 'train', base_path)\n",
    "\n",
    "        # Run the full preprocessing and epoching pipeline\n",
    "        epochs, raw_resampled = preprocess_and_epoch_trial(trial_df)\n",
    "\n",
    "        if epochs is None or len(epochs) == 0:\n",
    "            continue\n",
    "\n",
    "        # Average over epochs to get a fixed representation (channels x time)\n",
    "        epoch_data = epochs.get_data()  # shape: (n_epochs, n_channels, n_times)\n",
    "        avg_epoch = np.mean(epoch_data, axis=0)  # shape: (n_channels, n_times)\n",
    "\n",
    "        # Ensure the fixed shape\n",
    "        if avg_epoch.shape[1] < target_len:\n",
    "            avg_epoch = np.pad(avg_epoch, ((0, 0), (0, target_len - avg_epoch.shape[1])), mode='constant')\n",
    "        else:\n",
    "            avg_epoch = avg_epoch[:, :target_len]\n",
    "\n",
    "        # Flatten and append\n",
    "        trial_flat = avg_epoch.flatten()\n",
    "        train_trials.append(trial_flat)\n",
    "        train_labels.append(row['label'])\n",
    "\n",
    "    except Exception as e:\n",
    "        print(f\"Error processing trial {row['id']}: {e}\")\n",
    "\n",
    "# Convert to array\n",
    "X_train = np.stack(train_trials)\n",
    "y_train = LabelEncoder().fit_transform(train_labels)\n",
    "\n",
    "X_train.shape, np.unique(y_train)"
   ]
  },
  {
   "cell_type": "code",
   "execution_count": 29,
   "id": "00960548",
   "metadata": {},
   "outputs": [
    {
     "name": "stderr",
     "output_type": "stream",
     "text": [
      "c:\\Users\\PC\\Desktop\\EEG\\eeg-signal-classification\\notebooks\\../src\\preprocessing\\preprocessing.py:858: RuntimeWarning: All epochs were dropped!\n",
      "You might need to alter reject/flat-criteria or drop bad channels to avoid this. You can use Epochs.plot_drop_log() to see which channels are responsible for the dropping of epochs.\n",
      "  epochs = mne.Epochs(\n",
      "c:\\Users\\PC\\Desktop\\EEG\\eeg-signal-classification\\notebooks\\../src\\preprocessing\\preprocessing.py:858: RuntimeWarning: All epochs were dropped!\n",
      "You might need to alter reject/flat-criteria or drop bad channels to avoid this. You can use Epochs.plot_drop_log() to see which channels are responsible for the dropping of epochs.\n",
      "  epochs = mne.Epochs(\n",
      "c:\\Users\\PC\\Desktop\\EEG\\eeg-signal-classification\\notebooks\\../src\\preprocessing\\preprocessing.py:858: RuntimeWarning: All epochs were dropped!\n",
      "You might need to alter reject/flat-criteria or drop bad channels to avoid this. You can use Epochs.plot_drop_log() to see which channels are responsible for the dropping of epochs.\n",
      "  epochs = mne.Epochs(\n"
     ]
    },
    {
     "name": "stdout",
     "output_type": "stream",
     "text": [
      "Validation shape: (47, 16000), Labels: [0 1]\n"
     ]
    }
   ],
   "source": [
    "target_len = 1000   # same as used in training\n",
    "\n",
    "val_trials = []\n",
    "val_labels = []\n",
    "\n",
    "validation_df = validation_df[validation_df['task'] == 'MI']  # Filter for MI task if needed\n",
    "\n",
    "# Loop over all trials in validation set\n",
    "for idx, row in validation_df.iterrows():\n",
    "    try:\n",
    "        trial_df = load_trial(row, 'validation', base_path)\n",
    "\n",
    "        # Run the full preprocessing and epoching pipeline\n",
    "        epochs, raw_resampled = preprocess_and_epoch_trial(trial_df)\n",
    "\n",
    "        if epochs is None or len(epochs) == 0:\n",
    "            continue\n",
    "\n",
    "        # Average over epochs to get a fixed representation (channels x time)\n",
    "        epoch_data = epochs.get_data()  # shape: (n_epochs, n_channels, n_times)\n",
    "        avg_epoch = np.mean(epoch_data, axis=0)  # shape: (n_channels, n_times)\n",
    "\n",
    "        # Ensure fixed shape by padding or trimming\n",
    "        if avg_epoch.shape[1] < target_len:\n",
    "            avg_epoch = np.pad(avg_epoch, ((0, 0), (0, target_len - avg_epoch.shape[1])), mode='constant')\n",
    "        else:\n",
    "            avg_epoch = avg_epoch[:, :target_len]\n",
    "\n",
    "        # Flatten and append\n",
    "        trial_flat = avg_epoch.flatten()\n",
    "        val_trials.append(trial_flat)\n",
    "        val_labels.append(row['label'])\n",
    "\n",
    "    except Exception as e:\n",
    "        print(f\"Error processing validation trial {row['id']}: {e}\")\n",
    "\n",
    "# Final conversion using np.array (not flattening the full array!)\n",
    "X_val = np.array(val_trials)\n",
    "y_val = LabelEncoder().fit_transform(val_labels)\n",
    "\n",
    "print(f'Validation shape: {X_val.shape}, Labels: {np.unique(y_val)}')"
   ]
  },
  {
   "cell_type": "markdown",
   "id": "1e70979c",
   "metadata": {},
   "source": [
    "# SVM"
   ]
  },
  {
   "cell_type": "code",
   "execution_count": 30,
   "id": "514c9fd8",
   "metadata": {},
   "outputs": [
    {
     "name": "stdout",
     "output_type": "stream",
     "text": [
      "SVM Accuracy: 0.5531914893617021\n",
      "Classification Report:\n",
      "               precision    recall  f1-score   support\n",
      "\n",
      "           0       0.55      1.00      0.71        26\n",
      "           1       0.00      0.00      0.00        21\n",
      "\n",
      "    accuracy                           0.55        47\n",
      "   macro avg       0.28      0.50      0.36        47\n",
      "weighted avg       0.31      0.55      0.39        47\n",
      "\n"
     ]
    },
    {
     "name": "stderr",
     "output_type": "stream",
     "text": [
      "d:\\DS course Data\\Lib\\site-packages\\sklearn\\metrics\\_classification.py:1531: UndefinedMetricWarning: Precision is ill-defined and being set to 0.0 in labels with no predicted samples. Use `zero_division` parameter to control this behavior.\n",
      "  _warn_prf(average, modifier, f\"{metric.capitalize()} is\", len(result))\n",
      "d:\\DS course Data\\Lib\\site-packages\\sklearn\\metrics\\_classification.py:1531: UndefinedMetricWarning: Precision is ill-defined and being set to 0.0 in labels with no predicted samples. Use `zero_division` parameter to control this behavior.\n",
      "  _warn_prf(average, modifier, f\"{metric.capitalize()} is\", len(result))\n",
      "d:\\DS course Data\\Lib\\site-packages\\sklearn\\metrics\\_classification.py:1531: UndefinedMetricWarning: Precision is ill-defined and being set to 0.0 in labels with no predicted samples. Use `zero_division` parameter to control this behavior.\n",
      "  _warn_prf(average, modifier, f\"{metric.capitalize()} is\", len(result))\n"
     ]
    },
    {
     "data": {
      "image/png": "[encoded data removed]",
      "text/plain": [
       "<Figure size 640x480 with 2 Axes>"
      ]
     },
     "metadata": {},
     "output_type": "display_data"
    }
   ],
   "source": [
    "svm_model = SVC(kernel='rbf')\n",
    "svm_model.fit(X_train, y_train)\n",
    "svm_preds = svm_model.predict(X_val)\n",
    "print(\"SVM Accuracy:\", accuracy_score(y_val, svm_preds))\n",
    "print(\"Classification Report:\\n\", classification_report(y_val, svm_preds))\n",
    "sns.heatmap(confusion_matrix(y_val, svm_preds), annot=True, fmt='d')\n",
    "plt.title(\"SVM Confusion Matrix\")\n",
    "plt.show()\n"
   ]
  },
  {
   "cell_type": "markdown",
   "id": "ba770e37",
   "metadata": {},
   "source": [
    "# KNN"
   ]
  },
  {
   "cell_type": "code",
   "execution_count": 50,
   "id": "6766b28b",
   "metadata": {},
   "outputs": [
    {
     "name": "stdout",
     "output_type": "stream",
     "text": [
      "=== Classification Report ===\n",
      "              precision    recall  f1-score   support\n",
      "\n",
      "           0       0.64      0.96      0.77        26\n",
      "           1       0.88      0.33      0.48        21\n",
      "\n",
      "    accuracy                           0.68        47\n",
      "   macro avg       0.76      0.65      0.63        47\n",
      "weighted avg       0.75      0.68      0.64        47\n",
      "\n",
      "=== Accuracy Score ===\n",
      "Accuracy: 0.6809\n"
     ]
    }
   ],
   "source": [
    "scaler = StandardScaler()\n",
    "X_train_scaled = scaler.fit_transform(X_train)\n",
    "X_val_scaled = scaler.transform(X_val)\n",
    "\n",
    "# Use scaled versions for KNN\n",
    "\n",
    "# Define and train the KNN model\n",
    "knn = KNeighborsClassifier(n_neighbors=13, metric='euclidean')  # You can tune n_neighbors\n",
    "knn.fit(X_train_scaled, y_train)\n",
    "\n",
    "# Predict on validation data\n",
    "y_pred = knn.predict(X_val_scaled)\n",
    "\n",
    "# Evaluate the model\n",
    "print(\"=== Classification Report ===\")\n",
    "print(classification_report(y_val, y_pred))\n",
    "\n",
    "print(\"=== Accuracy Score ===\")\n",
    "print(f\"Accuracy: {accuracy_score(y_val, y_pred):.4f}\")"
   ]
  },
  {
   "cell_type": "code",
   "execution_count": 51,
   "id": "197eea91",
   "metadata": {},
   "outputs": [
    {
     "data": {
      "image/png": "[encoded data removed]",
      "text/plain": [
       "<Figure size 600x400 with 2 Axes>"
      ]
     },
     "metadata": {},
     "output_type": "display_data"
    }
   ],
   "source": [
    "# Plot confusion matrix\n",
    "conf_matrix = confusion_matrix(y_val, y_pred)\n",
    "plt.figure(figsize=(6, 4))\n",
    "sns.heatmap(conf_matrix, annot=True, fmt=\"d\", cmap=\"Blues\", xticklabels=np.unique(y_val), yticklabels=np.unique(y_val))\n",
    "plt.title(\"Confusion Matrix\")\n",
    "plt.xlabel(\"Predicted Label\")\n",
    "plt.ylabel(\"True Label\")\n",
    "plt.show()"
   ]
  },
  {
   "cell_type": "markdown",
   "id": "ba378a00",
   "metadata": {},
   "source": [
    "# Random Forest"
   ]
  },
  {
   "cell_type": "code",
   "execution_count": 52,
   "id": "16ee398e",
   "metadata": {},
   "outputs": [
    {
     "name": "stdout",
     "output_type": "stream",
     "text": [
      "=== Classification Report ===\n",
      "              precision    recall  f1-score   support\n",
      "\n",
      "           0       0.65      0.58      0.61        26\n",
      "           1       0.54      0.62      0.58        21\n",
      "\n",
      "    accuracy                           0.60        47\n",
      "   macro avg       0.60      0.60      0.60        47\n",
      "weighted avg       0.60      0.60      0.60        47\n",
      "\n",
      "=== Accuracy Score ===\n",
      "Accuracy: 0.5957\n"
     ]
    }
   ],
   "source": [
    "scaler = StandardScaler()\n",
    "X_train_scaled = scaler.fit_transform(X_train)\n",
    "X_val_scaled = scaler.transform(X_val)\n",
    "\n",
    "# Initialize and train the Random Forest model\n",
    "rf = RandomForestClassifier(\n",
    "    n_estimators=20000,      # Number of trees in the forest\n",
    "    max_depth=None,        # Let the trees expand fully\n",
    "    random_state=42,       # For reproducibility\n",
    "    n_jobs=-1              # Use all processors\n",
    ")\n",
    "\n",
    "rf.fit(X_train_scaled, y_train)\n",
    "\n",
    "# Predict on validation set\n",
    "y_pred = rf.predict(X_val_scaled)\n",
    "\n",
    "# Evaluation metrics\n",
    "print(\"=== Classification Report ===\")\n",
    "print(classification_report(y_val, y_pred))\n",
    "\n",
    "print(\"=== Accuracy Score ===\")\n",
    "print(f\"Accuracy: {accuracy_score(y_val, y_pred):.4f}\")"
   ]
  },
  {
   "cell_type": "code",
   "execution_count": 53,
   "id": "e3ded9c9",
   "metadata": {},
   "outputs": [
    {
     "data": {
      "image/png": "[encoded data removed]",
      "text/plain": [
       "<Figure size 600x400 with 2 Axes>"
      ]
     },
     "metadata": {},
     "output_type": "display_data"
    }
   ],
   "source": [
    "# Confusion matrix\n",
    "conf_matrix = confusion_matrix(y_val, y_pred)\n",
    "plt.figure(figsize=(6, 4))\n",
    "sns.heatmap(conf_matrix, annot=True, fmt=\"d\", cmap=\"Greens\", xticklabels=np.unique(y_val), yticklabels=np.unique(y_val))\n",
    "plt.title(\"Random Forest - Confusion Matrix\")\n",
    "plt.xlabel(\"Predicted Label\")\n",
    "plt.ylabel(\"True Label\")\n",
    "plt.show()"
   ]
  },
  {
   "cell_type": "markdown",
   "id": "47dc9ba6",
   "metadata": {},
   "source": [
    "# XGBoost"
   ]
  },
  {
   "cell_type": "code",
   "execution_count": 61,
   "id": "26034e2e",
   "metadata": {},
   "outputs": [
    {
     "name": "stdout",
     "output_type": "stream",
     "text": [
      "=== Classification Report ===\n",
      "              precision    recall  f1-score   support\n",
      "\n",
      "           0       0.59      0.38      0.47        26\n",
      "           1       0.47      0.67      0.55        21\n",
      "\n",
      "    accuracy                           0.51        47\n",
      "   macro avg       0.53      0.53      0.51        47\n",
      "weighted avg       0.53      0.51      0.50        47\n",
      "\n",
      "=== Accuracy Score ===\n",
      "Accuracy: 0.5106\n"
     ]
    }
   ],
   "source": [
    "scaler = StandardScaler()\n",
    "X_train_scaled = scaler.fit_transform(X_train)\n",
    "X_val_scaled = scaler.transform(X_val)\n",
    "# Convert data to DMatrix format (optional but recommended by XGBoost)\n",
    "dtrain = xgb.DMatrix(X_train_scaled, label=y_train)\n",
    "dval = xgb.DMatrix(X_val_scaled, label=y_val)\n",
    "\n",
    "# Define XGBoost parameters\n",
    "params = {\n",
    "    'objective': 'multi:softmax',   # For multi-class classification\n",
    "    'num_class': len(np.unique(y_train)),\n",
    "    'eval_metric': 'mlogloss',\n",
    "    'eta': 0.1,                     # Learning rate\n",
    "    'max_depth': 6,\n",
    "    'seed': 42\n",
    "}\n",
    "\n",
    "# Train the model\n",
    "bst = xgb.train(params, dtrain, num_boost_round=100)\n",
    "\n",
    "# Predict\n",
    "y_pred = bst.predict(dval).astype(int)\n",
    "\n",
    "# Evaluate\n",
    "print(\"=== Classification Report ===\")\n",
    "print(classification_report(y_val, y_pred))\n",
    "\n",
    "print(\"=== Accuracy Score ===\")\n",
    "print(f\"Accuracy: {accuracy_score(y_val, y_pred):.4f}\")"
   ]
  },
  {
   "cell_type": "code",
   "execution_count": 62,
   "id": "b0cac99f",
   "metadata": {},
   "outputs": [
    {
     "data": {
      "image/png": "[encoded data removed]",
      "text/plain": [
       "<Figure size 600x400 with 2 Axes>"
      ]
     },
     "metadata": {},
     "output_type": "display_data"
    }
   ],
   "source": [
    "# Confusion Matrix\n",
    "conf_matrix = confusion_matrix(y_val, y_pred)\n",
    "plt.figure(figsize=(6, 4))\n",
    "sns.heatmap(conf_matrix, annot=True, fmt=\"d\", cmap=\"Oranges\", xticklabels=np.unique(y_val), yticklabels=np.unique(y_val))\n",
    "plt.title(\"XGBoost - Confusion Matrix\")\n",
    "plt.xlabel(\"Predicted Label\")\n",
    "plt.ylabel(\"True Label\")\n",
    "plt.show()"
   ]
  }
 ],
 "metadata": {
  "kernelspec": {
   "display_name": "base",
   "language": "python",
   "name": "python3"
  },
  "language_info": {
   "codemirror_mode": {
    "name": "ipython",
    "version": 3
   },
   "file_extension": ".py",
   "mimetype": "text/x-python",
   "name": "python",
   "nbconvert_exporter": "python",
   "pygments_lexer": "ipython3",
   "version": "3.12.7"
  }
 },
 "nbformat": 4,
 "nbformat_minor": 5
}
