{
 "cells": [
  {
   "cell_type": "code",
   "execution_count": 14,
   "id": "96069bf8",
   "metadata": {},
   "outputs": [],
   "source": [
    "import pandas as pd\n",
    "import numpy as np\n",
    "import os\n",
    "import matplotlib.pyplot as plt\n",
    "import seaborn as sns\n",
    "from sklearn.preprocessing import LabelEncoder\n",
    "from sklearn.svm import SVC\n",
    "from sklearn.metrics import accuracy_score, classification_report, confusion_matrix\n",
    "import sys\n",
    "sys.path.append('../src')\n",
    "from utils.load_data import load_metadata, load_trial\n",
    "from preprocessing.preprocessing import preprocess_deep_learning"
   ]
  },
  {
   "cell_type": "code",
   "execution_count": 13,
   "id": "874f1631",
   "metadata": {},
   "outputs": [
    {
     "data": {
      "text/html": [
       "<div>\n",
       "<style scoped>\n",
       "    .dataframe tbody tr th:only-of-type {\n",
       "        vertical-align: middle;\n",
       "    }\n",
       "\n",
       "    .dataframe tbody tr th {\n",
       "        vertical-align: top;\n",
       "    }\n",
       "\n",
       "    .dataframe thead th {\n",
       "        text-align: right;\n",
       "    }\n",
       "</style>\n",
       "<table border=\"1\" class=\"dataframe\">\n",
       "  <thead>\n",
       "    <tr style=\"text-align: right;\">\n",
       "      <th></th>\n",
       "      <th>id</th>\n",
       "      <th>subject_id</th>\n",
       "      <th>task</th>\n",
       "      <th>trial_session</th>\n",
       "      <th>trial</th>\n",
       "      <th>label</th>\n",
       "    </tr>\n",
       "  </thead>\n",
       "  <tbody>\n",
       "    <tr>\n",
       "      <th>0</th>\n",
       "      <td>1</td>\n",
       "      <td>S1</td>\n",
       "      <td>MI</td>\n",
       "      <td>1</td>\n",
       "      <td>1</td>\n",
       "      <td>Left</td>\n",
       "    </tr>\n",
       "    <tr>\n",
       "      <th>1</th>\n",
       "      <td>2</td>\n",
       "      <td>S1</td>\n",
       "      <td>MI</td>\n",
       "      <td>1</td>\n",
       "      <td>2</td>\n",
       "      <td>Right</td>\n",
       "    </tr>\n",
       "    <tr>\n",
       "      <th>2</th>\n",
       "      <td>3</td>\n",
       "      <td>S1</td>\n",
       "      <td>MI</td>\n",
       "      <td>1</td>\n",
       "      <td>3</td>\n",
       "      <td>Left</td>\n",
       "    </tr>\n",
       "    <tr>\n",
       "      <th>3</th>\n",
       "      <td>4</td>\n",
       "      <td>S1</td>\n",
       "      <td>MI</td>\n",
       "      <td>1</td>\n",
       "      <td>4</td>\n",
       "      <td>Left</td>\n",
       "    </tr>\n",
       "    <tr>\n",
       "      <th>4</th>\n",
       "      <td>5</td>\n",
       "      <td>S1</td>\n",
       "      <td>MI</td>\n",
       "      <td>1</td>\n",
       "      <td>5</td>\n",
       "      <td>Left</td>\n",
       "    </tr>\n",
       "  </tbody>\n",
       "</table>\n",
       "</div>"
      ],
      "text/plain": [
       "   id subject_id task  trial_session  trial  label\n",
       "0   1         S1   MI              1      1   Left\n",
       "1   2         S1   MI              1      2  Right\n",
       "2   3         S1   MI              1      3   Left\n",
       "3   4         S1   MI              1      4   Left\n",
       "4   5         S1   MI              1      5   Left"
      ]
     },
     "execution_count": 13,
     "metadata": {},
     "output_type": "execute_result"
    }
   ],
   "source": [
    "base_path = '../data'\n",
    "metadata = load_metadata(base_path)\n",
    "train_df = metadata['train']\n",
    "validation_df = metadata['validation']\n",
    "test_df = metadata['test']\n",
    "train_df.head()\n"
   ]
  },
  {
   "cell_type": "code",
   "execution_count": 25,
   "id": "5944f61d",
   "metadata": {},
   "outputs": [
    {
     "name": "stdout",
     "output_type": "stream",
     "text": [
      "S1 Training shape: (160, 9000), Labels: [0 1 2 3]\n"
     ]
    }
   ],
   "source": [
    "target_len = 500  # fixed time length\n",
    "n_channels = 8    # fixed number of EEG channels (if known; adjust if needed)\n",
    "\n",
    "train_s1_df = train_df[train_df['subject_id'] == 'S1']\n",
    "\n",
    "train_trials, train_labels = [], []\n",
    "\n",
    "for idx, row in train_s1_df.iterrows():\n",
    "    trial = load_trial(row, 'train', base_path)  # shape: (n_channels, n_times) or (n_times, n_channels)\n",
    "\n",
    "    if trial.shape[0] < 30:\n",
    "        continue\n",
    "\n",
    "    processed, _ = preprocess_deep_learning(trial)\n",
    "\n",
    "    # Ensure processed shape: (n_channels, n_times)\n",
    "    if processed.shape[0] != n_channels:\n",
    "        processed = processed.T  # transpose if needed\n",
    "\n",
    "    # Pad or trim to fixed length\n",
    "    n_t = processed.shape[1]\n",
    "    if n_t < target_len:\n",
    "        processed = np.pad(processed, ((0, 0), (0, target_len - n_t)), mode='constant')\n",
    "    else:\n",
    "        processed = processed[:, :target_len]\n",
    "\n",
    "    # At this point, shape must be (n_channels, target_len)\n",
    "    processed_flat = processed.reshape(-1)  # flatten to (n_channels * target_len,)\n",
    "    train_trials.append(processed_flat)\n",
    "    train_labels.append(row['label'])\n",
    "\n",
    "# Final conversion\n",
    "X_train = np.stack(train_trials)  # shape: (n_samples, n_channels * target_len)\n",
    "y_train = LabelEncoder().fit_transform(train_labels)\n",
    "\n",
    "print(f'S1 Training shape: {X_train.shape}, Labels: {np.unique(y_train)}')"
   ]
  },
  {
   "cell_type": "code",
   "execution_count": 29,
   "id": "00960548",
   "metadata": {},
   "outputs": [
    {
     "name": "stdout",
     "output_type": "stream",
     "text": [
      "Validation shape: (100, 9000), Labels: [0 1 2 3]\n"
     ]
    }
   ],
   "source": [
    "target_len = 500   # same as used in training\n",
    "n_channels = 8     # adjust if different in your dataset\n",
    "\n",
    "val_trials, val_labels = [], []\n",
    "\n",
    "for idx, row in validation_df.iterrows():\n",
    "    trial = load_trial(row, 'validation', base_path)  # shape: (n_channels, n_times) or (n_times, n_channels)\n",
    "\n",
    "    if trial.shape[0] < 30:\n",
    "        print(f\"Skipping trial {row['id']} due to insufficient length: {trial.shape[0]}\")\n",
    "        continue\n",
    "\n",
    "    processed, _ = preprocess_deep_learning(trial)\n",
    "\n",
    "    # Ensure shape is (n_channels, n_times)\n",
    "    if processed.shape[0] != n_channels:\n",
    "        processed = processed.T  # transpose if needed\n",
    "\n",
    "    # Pad or trim to target_len\n",
    "    n_t = processed.shape[1]\n",
    "    if n_t < target_len:\n",
    "        processed = np.pad(processed, ((0, 0), (0, target_len - n_t)), mode='constant')\n",
    "    else:\n",
    "        processed = processed[:, :target_len]\n",
    "\n",
    "    # Flatten to 1D\n",
    "    processed_flat = processed.reshape(-1)\n",
    "    val_trials.append(processed_flat)\n",
    "    val_labels.append(row['label'])\n",
    "\n",
    "# Final conversion\n",
    "X_val = np.stack(val_trials)  # shape: (n_samples, n_channels * target_len)\n",
    "y_val = LabelEncoder().fit_transform(val_labels)\n",
    "\n",
    "print(f'Validation shape: {X_val.shape}, Labels: {np.unique(y_val)}')"
   ]
  },
  {
   "cell_type": "code",
   "execution_count": 30,
   "id": "514c9fd8",
   "metadata": {},
   "outputs": [
    {
     "name": "stdout",
     "output_type": "stream",
     "text": [
      "SVM Accuracy: 0.41\n",
      "Classification Report:\n",
      "               precision    recall  f1-score   support\n",
      "\n",
      "           0       0.00      0.00      0.00        14\n",
      "           1       0.00      0.00      0.00        12\n",
      "           2       0.43      0.88      0.57        42\n",
      "           3       0.31      0.12      0.18        32\n",
      "\n",
      "    accuracy                           0.41       100\n",
      "   macro avg       0.18      0.25      0.19       100\n",
      "weighted avg       0.28      0.41      0.30       100\n",
      "\n"
     ]
    },
    {
     "name": "stderr",
     "output_type": "stream",
     "text": [
      "d:\\DS course Data\\Lib\\site-packages\\sklearn\\metrics\\_classification.py:1531: UndefinedMetricWarning: Precision is ill-defined and being set to 0.0 in labels with no predicted samples. Use `zero_division` parameter to control this behavior.\n",
      "  _warn_prf(average, modifier, f\"{metric.capitalize()} is\", len(result))\n",
      "d:\\DS course Data\\Lib\\site-packages\\sklearn\\metrics\\_classification.py:1531: UndefinedMetricWarning: Precision is ill-defined and being set to 0.0 in labels with no predicted samples. Use `zero_division` parameter to control this behavior.\n",
      "  _warn_prf(average, modifier, f\"{metric.capitalize()} is\", len(result))\n",
      "d:\\DS course Data\\Lib\\site-packages\\sklearn\\metrics\\_classification.py:1531: UndefinedMetricWarning: Precision is ill-defined and being set to 0.0 in labels with no predicted samples. Use `zero_division` parameter to control this behavior.\n",
      "  _warn_prf(average, modifier, f\"{metric.capitalize()} is\", len(result))\n"
     ]
    },
    {
     "data": {
      "image/png": "[encoded data removed]",
      "text/plain": [
       "<Figure size 640x480 with 2 Axes>"
      ]
     },
     "metadata": {},
     "output_type": "display_data"
    }
   ],
   "source": [
    "svm_model = SVC(kernel='rbf')\n",
    "svm_model.fit(X_train, y_train)\n",
    "svm_preds = svm_model.predict(X_val)\n",
    "print(\"SVM Accuracy:\", accuracy_score(y_val, svm_preds))\n",
    "print(\"Classification Report:\\n\", classification_report(y_val, svm_preds))\n",
    "sns.heatmap(confusion_matrix(y_val, svm_preds), annot=True, fmt='d')\n",
    "plt.title(\"SVM Confusion Matrix\")\n",
    "plt.show()\n"
   ]
  },
  {
   "cell_type": "markdown",
   "id": "be9cd3c8",
   "metadata": {},
   "source": [
    "### Hybrid ELM model"
   ]
  },
  {
   "cell_type": "code",
   "execution_count": null,
   "id": "8b37ed53",
   "metadata": {},
   "outputs": [],
   "source": [
    "# Placeholder: Add Hybrid ELM model here\n",
    "# Example:\n",
    "# elm_model = HybridELM(...)\n",
    "# elm_model.fit(X_train, y_train)\n",
    "# elm_preds = elm_model.predict(aX_val)\n",
    "# print(\"ELM Accuracy:\", accuracy_score(y_val, elm_preds))\n"
   ]
  }
 ],
 "metadata": {
  "kernelspec": {
   "display_name": "base",
   "language": "python",
   "name": "python3"
  },
  "language_info": {
   "codemirror_mode": {
    "name": "ipython",
    "version": 3
   },
   "file_extension": ".py",
   "mimetype": "text/x-python",
   "name": "python",
   "nbconvert_exporter": "python",
   "pygments_lexer": "ipython3",
   "version": "3.12.7"
  }
 },
 "nbformat": 4,
 "nbformat_minor": 5
}
